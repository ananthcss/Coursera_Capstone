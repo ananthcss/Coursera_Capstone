{
 "cells": [
  {
   "cell_type": "code",
   "execution_count": 2,
   "metadata": {},
   "outputs": [
    {
     "name": "stdout",
     "output_type": "stream",
     "text": [
      "Collecting geopy\n",
      "\u001b[?25l  Downloading https://files.pythonhosted.org/packages/80/93/d384479da0ead712bdaf697a8399c13a9a89bd856ada5a27d462fb45e47b/geopy-1.20.0-py2.py3-none-any.whl (100kB)\n",
      "\u001b[K     |████████████████████████████████| 102kB 997kB/s ta 0:00:01\n",
      "\u001b[?25hCollecting geographiclib<2,>=1.49 (from geopy)\n",
      "  Downloading https://files.pythonhosted.org/packages/5b/ac/4f348828091490d77899bc74e92238e2b55c59392f21948f296e94e50e2b/geographiclib-1.49.tar.gz\n",
      "Building wheels for collected packages: geographiclib\n",
      "  Building wheel for geographiclib (setup.py) ... \u001b[?25ldone\n",
      "\u001b[?25h  Stored in directory: /home/jupyterlab/.cache/pip/wheels/99/45/d1/14954797e2a976083182c2e7da9b4e924509e59b6e5c661061\n",
      "Successfully built geographiclib\n",
      "Installing collected packages: geographiclib, geopy\n",
      "Successfully installed geographiclib-1.49 geopy-1.20.0\n",
      "Note: you may need to restart the kernel to use updated packages.\n"
     ]
    }
   ],
   "source": [
    "pip install geopy"
   ]
  },
  {
   "cell_type": "code",
   "execution_count": 2,
   "metadata": {},
   "outputs": [
    {
     "name": "stdout",
     "output_type": "stream",
     "text": [
      "Collecting geocoder\n",
      "\u001b[?25l  Downloading https://files.pythonhosted.org/packages/4f/6b/13166c909ad2f2d76b929a4227c952630ebaf0d729f6317eb09cbceccbab/geocoder-1.38.1-py2.py3-none-any.whl (98kB)\n",
      "\u001b[K     |████████████████████████████████| 102kB 996kB/s ta 0:00:01\n",
      "\u001b[?25hCollecting ratelim (from geocoder)\n",
      "  Downloading https://files.pythonhosted.org/packages/f2/98/7e6d147fd16a10a5f821db6e25f192265d6ecca3d82957a4fdd592cad49c/ratelim-0.1.6-py2.py3-none-any.whl\n",
      "Requirement already satisfied: requests in /home/jupyterlab/conda/envs/python/lib/python3.6/site-packages (from geocoder) (2.22.0)\n",
      "Collecting future (from geocoder)\n",
      "\u001b[?25l  Downloading https://files.pythonhosted.org/packages/90/52/e20466b85000a181e1e144fd8305caf2cf475e2f9674e797b222f8105f5f/future-0.17.1.tar.gz (829kB)\n",
      "\u001b[K     |████████████████████████████████| 829kB 3.0MB/s eta 0:00:01\n",
      "\u001b[?25hRequirement already satisfied: six in /home/jupyterlab/conda/envs/python/lib/python3.6/site-packages (from geocoder) (1.12.0)\n",
      "Collecting click (from geocoder)\n",
      "\u001b[?25l  Downloading https://files.pythonhosted.org/packages/fa/37/45185cb5abbc30d7257104c434fe0b07e5a195a6847506c074527aa599ec/Click-7.0-py2.py3-none-any.whl (81kB)\n",
      "\u001b[K     |████████████████████████████████| 81kB 18.7MB/s eta 0:00:01\n",
      "\u001b[?25hRequirement already satisfied: decorator in /home/jupyterlab/conda/envs/python/lib/python3.6/site-packages (from ratelim->geocoder) (4.4.0)\n",
      "Requirement already satisfied: urllib3!=1.25.0,!=1.25.1,<1.26,>=1.21.1 in /home/jupyterlab/conda/envs/python/lib/python3.6/site-packages (from requests->geocoder) (1.24.3)\n",
      "Requirement already satisfied: chardet<3.1.0,>=3.0.2 in /home/jupyterlab/conda/envs/python/lib/python3.6/site-packages (from requests->geocoder) (3.0.4)\n",
      "Requirement already satisfied: idna<2.9,>=2.5 in /home/jupyterlab/conda/envs/python/lib/python3.6/site-packages (from requests->geocoder) (2.8)\n",
      "Requirement already satisfied: certifi>=2017.4.17 in /home/jupyterlab/conda/envs/python/lib/python3.6/site-packages (from requests->geocoder) (2019.6.16)\n",
      "Building wheels for collected packages: future\n",
      "  Building wheel for future (setup.py) ... \u001b[?25ldone\n",
      "\u001b[?25h  Stored in directory: /home/jupyterlab/.cache/pip/wheels/0c/61/d2/d6b7317325828fbb39ee6ad559dbe4664d0896da4721bf379e\n",
      "Successfully built future\n",
      "Installing collected packages: ratelim, future, click, geocoder\n",
      "Successfully installed click-7.0 future-0.17.1 geocoder-1.38.1 ratelim-0.1.6\n",
      "Note: you may need to restart the kernel to use updated packages.\n"
     ]
    }
   ],
   "source": [
    "pip install geocoder"
   ]
  },
  {
   "cell_type": "code",
   "execution_count": 1,
   "metadata": {},
   "outputs": [
    {
     "ename": "ModuleNotFoundError",
     "evalue": "No module named 'bs4'",
     "output_type": "error",
     "traceback": [
      "\u001b[0;31m---------------------------------------------------------------------------\u001b[0m",
      "\u001b[0;31mModuleNotFoundError\u001b[0m                       Traceback (most recent call last)",
      "\u001b[0;32m<ipython-input-1-b5c8d75f062a>\u001b[0m in \u001b[0;36m<module>\u001b[0;34m\u001b[0m\n\u001b[1;32m     11\u001b[0m \u001b[0;34m\u001b[0m\u001b[0m\n\u001b[1;32m     12\u001b[0m \u001b[0;32mimport\u001b[0m \u001b[0mrequests\u001b[0m \u001b[0;31m# library to handle requests\u001b[0m\u001b[0;34m\u001b[0m\u001b[0;34m\u001b[0m\u001b[0m\n\u001b[0;32m---> 13\u001b[0;31m \u001b[0;32mfrom\u001b[0m \u001b[0mbs4\u001b[0m \u001b[0;32mimport\u001b[0m \u001b[0mBeautifulSoup\u001b[0m \u001b[0;31m# library to parse HTML and XML documents\u001b[0m\u001b[0;34m\u001b[0m\u001b[0;34m\u001b[0m\u001b[0m\n\u001b[0m\u001b[1;32m     14\u001b[0m \u001b[0;34m\u001b[0m\u001b[0m\n\u001b[1;32m     15\u001b[0m \u001b[0;32mfrom\u001b[0m \u001b[0mpandas\u001b[0m\u001b[0;34m.\u001b[0m\u001b[0mio\u001b[0m\u001b[0;34m.\u001b[0m\u001b[0mjson\u001b[0m \u001b[0;32mimport\u001b[0m \u001b[0mjson_normalize\u001b[0m \u001b[0;31m# tranform JSON file into a pandas dataframe\u001b[0m\u001b[0;34m\u001b[0m\u001b[0;34m\u001b[0m\u001b[0m\n",
      "\u001b[0;31mModuleNotFoundError\u001b[0m: No module named 'bs4'"
     ]
    }
   ],
   "source": []
  },
  {
   "cell_type": "code",
   "execution_count": 2,
   "metadata": {},
   "outputs": [
    {
     "name": "stdout",
     "output_type": "stream",
     "text": [
      "Collecting bs4\n",
      "  Downloading https://files.pythonhosted.org/packages/10/ed/7e8b97591f6f456174139ec089c769f89a94a1a4025fe967691de971f314/bs4-0.0.1.tar.gz\n",
      "Collecting beautifulsoup4 (from bs4)\n",
      "\u001b[?25l  Downloading https://files.pythonhosted.org/packages/1a/b7/34eec2fe5a49718944e215fde81288eec1fa04638aa3fb57c1c6cd0f98c3/beautifulsoup4-4.8.0-py3-none-any.whl (97kB)\n",
      "\u001b[K     |████████████████████████████████| 102kB 997kB/s ta 0:00:01\n",
      "\u001b[?25hCollecting soupsieve>=1.2 (from beautifulsoup4->bs4)\n",
      "  Downloading https://files.pythonhosted.org/packages/0b/44/0474f2207fdd601bb25787671c81076333d2c80e6f97e92790f8887cf682/soupsieve-1.9.3-py2.py3-none-any.whl\n",
      "Building wheels for collected packages: bs4\n",
      "  Building wheel for bs4 (setup.py) ... \u001b[?25ldone\n",
      "\u001b[?25h  Stored in directory: /home/jupyterlab/.cache/pip/wheels/a0/b0/b2/4f80b9456b87abedbc0bf2d52235414c3467d8889be38dd472\n",
      "Successfully built bs4\n",
      "Installing collected packages: soupsieve, beautifulsoup4, bs4\n",
      "Successfully installed beautifulsoup4-4.8.0 bs4-0.0.1 soupsieve-1.9.3\n",
      "Note: you may need to restart the kernel to use updated packages.\n"
     ]
    }
   ],
   "source": [
    "pip install bs4"
   ]
  },
  {
   "cell_type": "code",
   "execution_count": 1,
   "metadata": {},
   "outputs": [
    {
     "name": "stdout",
     "output_type": "stream",
     "text": [
      "Libraries imported.\n"
     ]
    }
   ],
   "source": [
    "import numpy as np # library to handle data in a vectorized manner\n",
    "\n",
    "import pandas as pd # library for data analsysis\n",
    "pd.set_option(\"display.max_columns\", None)\n",
    "pd.set_option(\"display.max_rows\", None)\n",
    "\n",
    "import json # library to handle JSON files\n",
    "\n",
    "from geopy.geocoders import Nominatim # convert an address into latitude and longitude values\n",
    "import geocoder # to get coordinates\n",
    "\n",
    "import requests # library to handle requests\n",
    "from bs4 import BeautifulSoup # library to parse HTML and XML documents\n",
    "\n",
    "from pandas.io.json import json_normalize # tranform JSON file into a pandas dataframe\n",
    "\n",
    "# Matplotlib and associated plotting modules\n",
    "import matplotlib.cm as cm\n",
    "import matplotlib.colors as colors\n",
    "\n",
    "# import k-means from clustering stage\n",
    "from sklearn.cluster import KMeans\n",
    "\n",
    "import folium # map rendering library\n",
    "\n",
    "print(\"Libraries imported.\")"
   ]
  },
  {
   "cell_type": "code",
   "execution_count": 2,
   "metadata": {},
   "outputs": [],
   "source": [
    "# send the GET request\n",
    "data = requests.get(\"https://en.wikipedia.org/wiki/Category:Suburbs_in_Kuala_Lumpur\").text"
   ]
  },
  {
   "cell_type": "code",
   "execution_count": 3,
   "metadata": {},
   "outputs": [],
   "source": [
    "# parse data from the html into a beautifulsoup object\n",
    "soup = BeautifulSoup(data, 'html.parser')"
   ]
  },
  {
   "cell_type": "code",
   "execution_count": 4,
   "metadata": {},
   "outputs": [],
   "source": [
    "# create a list to store neighborhood data\n",
    "neighborhoodList = []"
   ]
  },
  {
   "cell_type": "code",
   "execution_count": 5,
   "metadata": {},
   "outputs": [],
   "source": [
    "# append the data into the list\n",
    "for row in soup.find_all(\"div\", class_=\"mw-category\")[0].findAll(\"li\"):\n",
    "    neighborhoodList.append(row.text)"
   ]
  },
  {
   "cell_type": "code",
   "execution_count": 6,
   "metadata": {},
   "outputs": [
    {
     "data": {
      "text/html": [
       "<div>\n",
       "<style scoped>\n",
       "    .dataframe tbody tr th:only-of-type {\n",
       "        vertical-align: middle;\n",
       "    }\n",
       "\n",
       "    .dataframe tbody tr th {\n",
       "        vertical-align: top;\n",
       "    }\n",
       "\n",
       "    .dataframe thead th {\n",
       "        text-align: right;\n",
       "    }\n",
       "</style>\n",
       "<table border=\"1\" class=\"dataframe\">\n",
       "  <thead>\n",
       "    <tr style=\"text-align: right;\">\n",
       "      <th></th>\n",
       "      <th>Neighborhood</th>\n",
       "    </tr>\n",
       "  </thead>\n",
       "  <tbody>\n",
       "    <tr>\n",
       "      <td>0</td>\n",
       "      <td>Alam Damai</td>\n",
       "    </tr>\n",
       "    <tr>\n",
       "      <td>1</td>\n",
       "      <td>Ampang, Kuala Lumpur</td>\n",
       "    </tr>\n",
       "    <tr>\n",
       "      <td>2</td>\n",
       "      <td>Bandar Menjalara</td>\n",
       "    </tr>\n",
       "    <tr>\n",
       "      <td>3</td>\n",
       "      <td>Bandar Sri Permaisuri</td>\n",
       "    </tr>\n",
       "    <tr>\n",
       "      <td>4</td>\n",
       "      <td>Bandar Tasik Selatan</td>\n",
       "    </tr>\n",
       "  </tbody>\n",
       "</table>\n",
       "</div>"
      ],
      "text/plain": [
       "            Neighborhood\n",
       "0             Alam Damai\n",
       "1   Ampang, Kuala Lumpur\n",
       "2       Bandar Menjalara\n",
       "3  Bandar Sri Permaisuri\n",
       "4   Bandar Tasik Selatan"
      ]
     },
     "execution_count": 6,
     "metadata": {},
     "output_type": "execute_result"
    }
   ],
   "source": [
    "# create a new DataFrame from the list\n",
    "kl_df = pd.DataFrame({\"Neighborhood\": neighborhoodList})\n",
    "\n",
    "kl_df.head()"
   ]
  },
  {
   "cell_type": "code",
   "execution_count": 7,
   "metadata": {},
   "outputs": [
    {
     "data": {
      "text/plain": [
       "(71, 1)"
      ]
     },
     "execution_count": 7,
     "metadata": {},
     "output_type": "execute_result"
    }
   ],
   "source": [
    "# print the number of rows of the dataframe\n",
    "kl_df.shape"
   ]
  },
  {
   "cell_type": "code",
   "execution_count": 8,
   "metadata": {},
   "outputs": [],
   "source": [
    "# define a function to get coordinates\n",
    "def get_latlng(neighborhood):\n",
    "    # initialize your variable to None\n",
    "    lat_lng_coords = None\n",
    "    # loop until you get the coordinates\n",
    "    while(lat_lng_coords is None):\n",
    "        g = geocoder.arcgis('{}, Kuala Lumpur, Malaysia'.format(neighborhood))\n",
    "        lat_lng_coords = g.latlng\n",
    "    return lat_lng_coords"
   ]
  },
  {
   "cell_type": "code",
   "execution_count": 9,
   "metadata": {},
   "outputs": [],
   "source": [
    "# call the function to get the coordinates, store in a new list using list comprehension\n",
    "coords = [ get_latlng(neighborhood) for neighborhood in kl_df[\"Neighborhood\"].tolist() ]"
   ]
  },
  {
   "cell_type": "code",
   "execution_count": 10,
   "metadata": {},
   "outputs": [
    {
     "data": {
      "text/plain": [
       "[[3.0576900000000364, 101.74388000000005],\n",
       " [3.1531525006886456, 101.70041313127312],\n",
       " [3.1903500000000236, 101.62545000000006],\n",
       " [3.1039100000000417, 101.71226000000007],\n",
       " [3.072620000000029, 101.71471000000008],\n",
       " [3.08280000000002, 101.72281000000004],\n",
       " [3.1292000000000257, 101.67844000000008],\n",
       " [3.1347800000000348, 101.67262000000005],\n",
       " [3.111020000000053, 101.66283000000004],\n",
       " [3.09898000000004, 101.73499000000004],\n",
       " [3.1357600000000616, 101.70837000000006],\n",
       " [3.12916000000007, 101.68406000000004],\n",
       " [3.147770000000037, 101.70855000000006],\n",
       " [3.057800000000043, 101.68965000000009],\n",
       " [3.1434800000000678, 101.64433000000008],\n",
       " [3.152017197420035, 101.70102760046613],\n",
       " [3.129290000000026, 101.69892000000004],\n",
       " [3.17381000000006, 101.68276000000009],\n",
       " [3.061870000000056, 101.74675000000008],\n",
       " [3.163590000000056, 101.69811000000004],\n",
       " [3.147980000000075, 101.66798000000006],\n",
       " [3.1387586696676304, 101.6840455304707],\n",
       " [3.1387586696676304, 101.6840455304707],\n",
       " [3.156685250705136, 101.6980764971795],\n",
       " [3.08331000000004, 101.70438000000007],\n",
       " [3.1363700000000563, 101.68564000000003],\n",
       " [3.201630000000023, 101.72107000000005],\n",
       " [3.132977301586902, 101.72466893310815],\n",
       " [3.1801625281028416, 101.67788025972793],\n",
       " [3.209500000000048, 101.65874000000008],\n",
       " [3.165460000000053, 101.71028000000007],\n",
       " [3.166400000000067, 101.73046000000005],\n",
       " [3.2094300000000544, 101.69318000000004],\n",
       " [3.2175000000000296, 101.63763000000006],\n",
       " [3.117140000000063, 101.67389000000009],\n",
       " [3.0907400000000393, 101.67733000000004],\n",
       " [3.1212017325659525, 101.6638990103096],\n",
       " [3.147890000000075, 101.69405000000006],\n",
       " [3.1592600000000743, 101.69834000000009],\n",
       " [3.147890000000075, 101.69405000000006],\n",
       " [3.165320000000065, 101.65243000000004],\n",
       " [3.094760000000065, 101.66747000000004],\n",
       " [3.133540000000039, 101.71307000000007],\n",
       " [3.125861531801437, 101.7186241383456],\n",
       " [3.0810200000000236, 101.69724000000008],\n",
       " [3.186390000000074, 101.66810000000004],\n",
       " [3.1799266000286424, 101.72144192942527],\n",
       " [3.1874305003813963, 101.69145318264098],\n",
       " [3.188160000000039, 101.70415000000008],\n",
       " [3.191802843003158, 101.74007037312064],\n",
       " [3.124580000000037, 101.73597000000007],\n",
       " [3.162200000000041, 101.65036000000003],\n",
       " [3.0726000000000226, 101.68252000000007],\n",
       " [3.050640000000044, 101.70613000000009],\n",
       " [3.2006600000000276, 101.63337000000007],\n",
       " [3.0826300000000515, 101.74671000000006],\n",
       " [3.0826900000000705, 101.73689000000007],\n",
       " [3.1029700000000275, 101.68471000000005],\n",
       " [3.21216000000004, 101.71540000000005],\n",
       " [3.069080000000042, 101.74287000000004],\n",
       " [3.223570000000052, 101.72399000000007],\n",
       " [3.093590000000063, 101.72837000000004],\n",
       " [3.2100497379521316, 101.63450794879562],\n",
       " [3.1936000000000604, 101.70598000000007],\n",
       " [3.1900700000000484, 101.65293000000008],\n",
       " [3.0870700000000397, 101.73681000000005],\n",
       " [3.1528300000000513, 101.62271000000004],\n",
       " [3.157700000000034, 101.72452000000004],\n",
       " [3.22240000000005, 101.67173000000008],\n",
       " [3.1806700000000205, 101.70322000000004],\n",
       " [3.2039100000000644, 101.73719000000006]]"
      ]
     },
     "execution_count": 10,
     "metadata": {},
     "output_type": "execute_result"
    }
   ],
   "source": [
    "coords"
   ]
  },
  {
   "cell_type": "code",
   "execution_count": 11,
   "metadata": {},
   "outputs": [],
   "source": [
    "# create temporary dataframe to populate the coordinates into Latitude and Longitude\n",
    "df_coords = pd.DataFrame(coords, columns=['Latitude', 'Longitude'])"
   ]
  },
  {
   "cell_type": "code",
   "execution_count": 12,
   "metadata": {},
   "outputs": [],
   "source": [
    "# merge the coordinates into the original dataframe\n",
    "kl_df['Latitude'] = df_coords['Latitude']\n",
    "kl_df['Longitude'] = df_coords['Longitude']"
   ]
  },
  {
   "cell_type": "code",
   "execution_count": 13,
   "metadata": {},
   "outputs": [
    {
     "name": "stdout",
     "output_type": "stream",
     "text": [
      "(71, 3)\n"
     ]
    },
    {
     "data": {
      "text/html": [
       "<div>\n",
       "<style scoped>\n",
       "    .dataframe tbody tr th:only-of-type {\n",
       "        vertical-align: middle;\n",
       "    }\n",
       "\n",
       "    .dataframe tbody tr th {\n",
       "        vertical-align: top;\n",
       "    }\n",
       "\n",
       "    .dataframe thead th {\n",
       "        text-align: right;\n",
       "    }\n",
       "</style>\n",
       "<table border=\"1\" class=\"dataframe\">\n",
       "  <thead>\n",
       "    <tr style=\"text-align: right;\">\n",
       "      <th></th>\n",
       "      <th>Neighborhood</th>\n",
       "      <th>Latitude</th>\n",
       "      <th>Longitude</th>\n",
       "    </tr>\n",
       "  </thead>\n",
       "  <tbody>\n",
       "    <tr>\n",
       "      <td>0</td>\n",
       "      <td>Alam Damai</td>\n",
       "      <td>3.057690</td>\n",
       "      <td>101.743880</td>\n",
       "    </tr>\n",
       "    <tr>\n",
       "      <td>1</td>\n",
       "      <td>Ampang, Kuala Lumpur</td>\n",
       "      <td>3.153153</td>\n",
       "      <td>101.700413</td>\n",
       "    </tr>\n",
       "    <tr>\n",
       "      <td>2</td>\n",
       "      <td>Bandar Menjalara</td>\n",
       "      <td>3.190350</td>\n",
       "      <td>101.625450</td>\n",
       "    </tr>\n",
       "    <tr>\n",
       "      <td>3</td>\n",
       "      <td>Bandar Sri Permaisuri</td>\n",
       "      <td>3.103910</td>\n",
       "      <td>101.712260</td>\n",
       "    </tr>\n",
       "    <tr>\n",
       "      <td>4</td>\n",
       "      <td>Bandar Tasik Selatan</td>\n",
       "      <td>3.072620</td>\n",
       "      <td>101.714710</td>\n",
       "    </tr>\n",
       "    <tr>\n",
       "      <td>5</td>\n",
       "      <td>Bandar Tun Razak</td>\n",
       "      <td>3.082800</td>\n",
       "      <td>101.722810</td>\n",
       "    </tr>\n",
       "    <tr>\n",
       "      <td>6</td>\n",
       "      <td>Bangsar</td>\n",
       "      <td>3.129200</td>\n",
       "      <td>101.678440</td>\n",
       "    </tr>\n",
       "    <tr>\n",
       "      <td>7</td>\n",
       "      <td>Bangsar Park</td>\n",
       "      <td>3.134780</td>\n",
       "      <td>101.672620</td>\n",
       "    </tr>\n",
       "    <tr>\n",
       "      <td>8</td>\n",
       "      <td>Bangsar South</td>\n",
       "      <td>3.111020</td>\n",
       "      <td>101.662830</td>\n",
       "    </tr>\n",
       "    <tr>\n",
       "      <td>9</td>\n",
       "      <td>Batu 11 Cheras</td>\n",
       "      <td>3.098980</td>\n",
       "      <td>101.734990</td>\n",
       "    </tr>\n",
       "    <tr>\n",
       "      <td>10</td>\n",
       "      <td>Batu, Kuala Lumpur</td>\n",
       "      <td>3.135760</td>\n",
       "      <td>101.708370</td>\n",
       "    </tr>\n",
       "    <tr>\n",
       "      <td>11</td>\n",
       "      <td>Brickfields</td>\n",
       "      <td>3.129160</td>\n",
       "      <td>101.684060</td>\n",
       "    </tr>\n",
       "    <tr>\n",
       "      <td>12</td>\n",
       "      <td>Bukit Bintang</td>\n",
       "      <td>3.147770</td>\n",
       "      <td>101.708550</td>\n",
       "    </tr>\n",
       "    <tr>\n",
       "      <td>13</td>\n",
       "      <td>Bukit Jalil</td>\n",
       "      <td>3.057800</td>\n",
       "      <td>101.689650</td>\n",
       "    </tr>\n",
       "    <tr>\n",
       "      <td>14</td>\n",
       "      <td>Bukit Kiara</td>\n",
       "      <td>3.143480</td>\n",
       "      <td>101.644330</td>\n",
       "    </tr>\n",
       "    <tr>\n",
       "      <td>15</td>\n",
       "      <td>Bukit Nanas</td>\n",
       "      <td>3.152017</td>\n",
       "      <td>101.701028</td>\n",
       "    </tr>\n",
       "    <tr>\n",
       "      <td>16</td>\n",
       "      <td>Bukit Petaling</td>\n",
       "      <td>3.129290</td>\n",
       "      <td>101.698920</td>\n",
       "    </tr>\n",
       "    <tr>\n",
       "      <td>17</td>\n",
       "      <td>Bukit Tunku</td>\n",
       "      <td>3.173810</td>\n",
       "      <td>101.682760</td>\n",
       "    </tr>\n",
       "    <tr>\n",
       "      <td>18</td>\n",
       "      <td>Cheras, Kuala Lumpur</td>\n",
       "      <td>3.061870</td>\n",
       "      <td>101.746750</td>\n",
       "    </tr>\n",
       "    <tr>\n",
       "      <td>19</td>\n",
       "      <td>Chow Kit</td>\n",
       "      <td>3.163590</td>\n",
       "      <td>101.698110</td>\n",
       "    </tr>\n",
       "    <tr>\n",
       "      <td>20</td>\n",
       "      <td>Damansara Heights</td>\n",
       "      <td>3.147980</td>\n",
       "      <td>101.667980</td>\n",
       "    </tr>\n",
       "    <tr>\n",
       "      <td>21</td>\n",
       "      <td>Damansara Town Centre</td>\n",
       "      <td>3.138759</td>\n",
       "      <td>101.684046</td>\n",
       "    </tr>\n",
       "    <tr>\n",
       "      <td>22</td>\n",
       "      <td>Damansara, Kuala Lumpur</td>\n",
       "      <td>3.138759</td>\n",
       "      <td>101.684046</td>\n",
       "    </tr>\n",
       "    <tr>\n",
       "      <td>23</td>\n",
       "      <td>Dang Wangi</td>\n",
       "      <td>3.156685</td>\n",
       "      <td>101.698076</td>\n",
       "    </tr>\n",
       "    <tr>\n",
       "      <td>24</td>\n",
       "      <td>Desa Petaling</td>\n",
       "      <td>3.083310</td>\n",
       "      <td>101.704380</td>\n",
       "    </tr>\n",
       "    <tr>\n",
       "      <td>25</td>\n",
       "      <td>Federal Hill, Kuala Lumpur</td>\n",
       "      <td>3.136370</td>\n",
       "      <td>101.685640</td>\n",
       "    </tr>\n",
       "    <tr>\n",
       "      <td>26</td>\n",
       "      <td>Happy Garden</td>\n",
       "      <td>3.201630</td>\n",
       "      <td>101.721070</td>\n",
       "    </tr>\n",
       "    <tr>\n",
       "      <td>27</td>\n",
       "      <td>Jalan Cochrane, Kuala Lumpur</td>\n",
       "      <td>3.132977</td>\n",
       "      <td>101.724669</td>\n",
       "    </tr>\n",
       "    <tr>\n",
       "      <td>28</td>\n",
       "      <td>Jalan Duta</td>\n",
       "      <td>3.180163</td>\n",
       "      <td>101.677880</td>\n",
       "    </tr>\n",
       "    <tr>\n",
       "      <td>29</td>\n",
       "      <td>Jinjang</td>\n",
       "      <td>3.209500</td>\n",
       "      <td>101.658740</td>\n",
       "    </tr>\n",
       "    <tr>\n",
       "      <td>30</td>\n",
       "      <td>Kampung Baru, Kuala Lumpur</td>\n",
       "      <td>3.165460</td>\n",
       "      <td>101.710280</td>\n",
       "    </tr>\n",
       "    <tr>\n",
       "      <td>31</td>\n",
       "      <td>Kampung Datuk Keramat</td>\n",
       "      <td>3.166400</td>\n",
       "      <td>101.730460</td>\n",
       "    </tr>\n",
       "    <tr>\n",
       "      <td>32</td>\n",
       "      <td>Kampung Padang Balang</td>\n",
       "      <td>3.209430</td>\n",
       "      <td>101.693180</td>\n",
       "    </tr>\n",
       "    <tr>\n",
       "      <td>33</td>\n",
       "      <td>Kepong</td>\n",
       "      <td>3.217500</td>\n",
       "      <td>101.637630</td>\n",
       "    </tr>\n",
       "    <tr>\n",
       "      <td>34</td>\n",
       "      <td>KL Eco City</td>\n",
       "      <td>3.117140</td>\n",
       "      <td>101.673890</td>\n",
       "    </tr>\n",
       "    <tr>\n",
       "      <td>35</td>\n",
       "      <td>Kuchai Lama</td>\n",
       "      <td>3.090740</td>\n",
       "      <td>101.677330</td>\n",
       "    </tr>\n",
       "    <tr>\n",
       "      <td>36</td>\n",
       "      <td>Lembah Pantai</td>\n",
       "      <td>3.121202</td>\n",
       "      <td>101.663899</td>\n",
       "    </tr>\n",
       "    <tr>\n",
       "      <td>37</td>\n",
       "      <td>Maluri</td>\n",
       "      <td>3.147890</td>\n",
       "      <td>101.694050</td>\n",
       "    </tr>\n",
       "    <tr>\n",
       "      <td>38</td>\n",
       "      <td>Medan Tuanku</td>\n",
       "      <td>3.159260</td>\n",
       "      <td>101.698340</td>\n",
       "    </tr>\n",
       "    <tr>\n",
       "      <td>39</td>\n",
       "      <td>Miharja</td>\n",
       "      <td>3.147890</td>\n",
       "      <td>101.694050</td>\n",
       "    </tr>\n",
       "    <tr>\n",
       "      <td>40</td>\n",
       "      <td>Mont Kiara</td>\n",
       "      <td>3.165320</td>\n",
       "      <td>101.652430</td>\n",
       "    </tr>\n",
       "    <tr>\n",
       "      <td>41</td>\n",
       "      <td>Pantai Dalam</td>\n",
       "      <td>3.094760</td>\n",
       "      <td>101.667470</td>\n",
       "    </tr>\n",
       "    <tr>\n",
       "      <td>42</td>\n",
       "      <td>Pudu, Kuala Lumpur</td>\n",
       "      <td>3.133540</td>\n",
       "      <td>101.713070</td>\n",
       "    </tr>\n",
       "    <tr>\n",
       "      <td>43</td>\n",
       "      <td>Putrajaya</td>\n",
       "      <td>3.125862</td>\n",
       "      <td>101.718624</td>\n",
       "    </tr>\n",
       "    <tr>\n",
       "      <td>44</td>\n",
       "      <td>Salak South</td>\n",
       "      <td>3.081020</td>\n",
       "      <td>101.697240</td>\n",
       "    </tr>\n",
       "    <tr>\n",
       "      <td>45</td>\n",
       "      <td>Segambut</td>\n",
       "      <td>3.186390</td>\n",
       "      <td>101.668100</td>\n",
       "    </tr>\n",
       "    <tr>\n",
       "      <td>46</td>\n",
       "      <td>Semarak</td>\n",
       "      <td>3.179927</td>\n",
       "      <td>101.721442</td>\n",
       "    </tr>\n",
       "    <tr>\n",
       "      <td>47</td>\n",
       "      <td>Sentul Raya</td>\n",
       "      <td>3.187431</td>\n",
       "      <td>101.691453</td>\n",
       "    </tr>\n",
       "    <tr>\n",
       "      <td>48</td>\n",
       "      <td>Setapak</td>\n",
       "      <td>3.188160</td>\n",
       "      <td>101.704150</td>\n",
       "    </tr>\n",
       "    <tr>\n",
       "      <td>49</td>\n",
       "      <td>Setiawangsa</td>\n",
       "      <td>3.191803</td>\n",
       "      <td>101.740070</td>\n",
       "    </tr>\n",
       "    <tr>\n",
       "      <td>50</td>\n",
       "      <td>Shamelin</td>\n",
       "      <td>3.124580</td>\n",
       "      <td>101.735970</td>\n",
       "    </tr>\n",
       "    <tr>\n",
       "      <td>51</td>\n",
       "      <td>Sri Hartamas</td>\n",
       "      <td>3.162200</td>\n",
       "      <td>101.650360</td>\n",
       "    </tr>\n",
       "    <tr>\n",
       "      <td>52</td>\n",
       "      <td>Sri Petaling</td>\n",
       "      <td>3.072600</td>\n",
       "      <td>101.682520</td>\n",
       "    </tr>\n",
       "    <tr>\n",
       "      <td>53</td>\n",
       "      <td>Sungai Besi</td>\n",
       "      <td>3.050640</td>\n",
       "      <td>101.706130</td>\n",
       "    </tr>\n",
       "    <tr>\n",
       "      <td>54</td>\n",
       "      <td>Taman Bukit Maluri</td>\n",
       "      <td>3.200660</td>\n",
       "      <td>101.633370</td>\n",
       "    </tr>\n",
       "    <tr>\n",
       "      <td>55</td>\n",
       "      <td>Taman Cheras Hartamas</td>\n",
       "      <td>3.082630</td>\n",
       "      <td>101.746710</td>\n",
       "    </tr>\n",
       "    <tr>\n",
       "      <td>56</td>\n",
       "      <td>Taman Connaught</td>\n",
       "      <td>3.082690</td>\n",
       "      <td>101.736890</td>\n",
       "    </tr>\n",
       "    <tr>\n",
       "      <td>57</td>\n",
       "      <td>Taman Desa</td>\n",
       "      <td>3.102970</td>\n",
       "      <td>101.684710</td>\n",
       "    </tr>\n",
       "    <tr>\n",
       "      <td>58</td>\n",
       "      <td>Taman Ibukota</td>\n",
       "      <td>3.212160</td>\n",
       "      <td>101.715400</td>\n",
       "    </tr>\n",
       "    <tr>\n",
       "      <td>59</td>\n",
       "      <td>Taman Len Seng</td>\n",
       "      <td>3.069080</td>\n",
       "      <td>101.742870</td>\n",
       "    </tr>\n",
       "    <tr>\n",
       "      <td>60</td>\n",
       "      <td>Taman Melati</td>\n",
       "      <td>3.223570</td>\n",
       "      <td>101.723990</td>\n",
       "    </tr>\n",
       "    <tr>\n",
       "      <td>61</td>\n",
       "      <td>Taman Midah</td>\n",
       "      <td>3.093590</td>\n",
       "      <td>101.728370</td>\n",
       "    </tr>\n",
       "    <tr>\n",
       "      <td>62</td>\n",
       "      <td>Taman OUG</td>\n",
       "      <td>3.210050</td>\n",
       "      <td>101.634508</td>\n",
       "    </tr>\n",
       "    <tr>\n",
       "      <td>63</td>\n",
       "      <td>Taman P. Ramlee</td>\n",
       "      <td>3.193600</td>\n",
       "      <td>101.705980</td>\n",
       "    </tr>\n",
       "    <tr>\n",
       "      <td>64</td>\n",
       "      <td>Taman Sri Sinar</td>\n",
       "      <td>3.190070</td>\n",
       "      <td>101.652930</td>\n",
       "    </tr>\n",
       "    <tr>\n",
       "      <td>65</td>\n",
       "      <td>Taman Taynton View</td>\n",
       "      <td>3.087070</td>\n",
       "      <td>101.736810</td>\n",
       "    </tr>\n",
       "    <tr>\n",
       "      <td>66</td>\n",
       "      <td>Taman Tun Dr Ismail</td>\n",
       "      <td>3.152830</td>\n",
       "      <td>101.622710</td>\n",
       "    </tr>\n",
       "    <tr>\n",
       "      <td>67</td>\n",
       "      <td>Taman U-Thant</td>\n",
       "      <td>3.157700</td>\n",
       "      <td>101.724520</td>\n",
       "    </tr>\n",
       "    <tr>\n",
       "      <td>68</td>\n",
       "      <td>Taman Wahyu</td>\n",
       "      <td>3.222400</td>\n",
       "      <td>101.671730</td>\n",
       "    </tr>\n",
       "    <tr>\n",
       "      <td>69</td>\n",
       "      <td>Titiwangsa</td>\n",
       "      <td>3.180670</td>\n",
       "      <td>101.703220</td>\n",
       "    </tr>\n",
       "    <tr>\n",
       "      <td>70</td>\n",
       "      <td>Wangsa Maju</td>\n",
       "      <td>3.203910</td>\n",
       "      <td>101.737190</td>\n",
       "    </tr>\n",
       "  </tbody>\n",
       "</table>\n",
       "</div>"
      ],
      "text/plain": [
       "                    Neighborhood  Latitude   Longitude\n",
       "0                     Alam Damai  3.057690  101.743880\n",
       "1           Ampang, Kuala Lumpur  3.153153  101.700413\n",
       "2               Bandar Menjalara  3.190350  101.625450\n",
       "3          Bandar Sri Permaisuri  3.103910  101.712260\n",
       "4           Bandar Tasik Selatan  3.072620  101.714710\n",
       "5               Bandar Tun Razak  3.082800  101.722810\n",
       "6                        Bangsar  3.129200  101.678440\n",
       "7                   Bangsar Park  3.134780  101.672620\n",
       "8                  Bangsar South  3.111020  101.662830\n",
       "9                 Batu 11 Cheras  3.098980  101.734990\n",
       "10            Batu, Kuala Lumpur  3.135760  101.708370\n",
       "11                   Brickfields  3.129160  101.684060\n",
       "12                 Bukit Bintang  3.147770  101.708550\n",
       "13                   Bukit Jalil  3.057800  101.689650\n",
       "14                   Bukit Kiara  3.143480  101.644330\n",
       "15                   Bukit Nanas  3.152017  101.701028\n",
       "16                Bukit Petaling  3.129290  101.698920\n",
       "17                   Bukit Tunku  3.173810  101.682760\n",
       "18          Cheras, Kuala Lumpur  3.061870  101.746750\n",
       "19                      Chow Kit  3.163590  101.698110\n",
       "20             Damansara Heights  3.147980  101.667980\n",
       "21         Damansara Town Centre  3.138759  101.684046\n",
       "22       Damansara, Kuala Lumpur  3.138759  101.684046\n",
       "23                    Dang Wangi  3.156685  101.698076\n",
       "24                 Desa Petaling  3.083310  101.704380\n",
       "25    Federal Hill, Kuala Lumpur  3.136370  101.685640\n",
       "26                  Happy Garden  3.201630  101.721070\n",
       "27  Jalan Cochrane, Kuala Lumpur  3.132977  101.724669\n",
       "28                    Jalan Duta  3.180163  101.677880\n",
       "29                       Jinjang  3.209500  101.658740\n",
       "30    Kampung Baru, Kuala Lumpur  3.165460  101.710280\n",
       "31         Kampung Datuk Keramat  3.166400  101.730460\n",
       "32         Kampung Padang Balang  3.209430  101.693180\n",
       "33                        Kepong  3.217500  101.637630\n",
       "34                   KL Eco City  3.117140  101.673890\n",
       "35                   Kuchai Lama  3.090740  101.677330\n",
       "36                 Lembah Pantai  3.121202  101.663899\n",
       "37                        Maluri  3.147890  101.694050\n",
       "38                  Medan Tuanku  3.159260  101.698340\n",
       "39                       Miharja  3.147890  101.694050\n",
       "40                    Mont Kiara  3.165320  101.652430\n",
       "41                  Pantai Dalam  3.094760  101.667470\n",
       "42            Pudu, Kuala Lumpur  3.133540  101.713070\n",
       "43                     Putrajaya  3.125862  101.718624\n",
       "44                   Salak South  3.081020  101.697240\n",
       "45                      Segambut  3.186390  101.668100\n",
       "46                       Semarak  3.179927  101.721442\n",
       "47                   Sentul Raya  3.187431  101.691453\n",
       "48                       Setapak  3.188160  101.704150\n",
       "49                   Setiawangsa  3.191803  101.740070\n",
       "50                      Shamelin  3.124580  101.735970\n",
       "51                  Sri Hartamas  3.162200  101.650360\n",
       "52                  Sri Petaling  3.072600  101.682520\n",
       "53                   Sungai Besi  3.050640  101.706130\n",
       "54            Taman Bukit Maluri  3.200660  101.633370\n",
       "55         Taman Cheras Hartamas  3.082630  101.746710\n",
       "56               Taman Connaught  3.082690  101.736890\n",
       "57                    Taman Desa  3.102970  101.684710\n",
       "58                 Taman Ibukota  3.212160  101.715400\n",
       "59                Taman Len Seng  3.069080  101.742870\n",
       "60                  Taman Melati  3.223570  101.723990\n",
       "61                   Taman Midah  3.093590  101.728370\n",
       "62                     Taman OUG  3.210050  101.634508\n",
       "63               Taman P. Ramlee  3.193600  101.705980\n",
       "64               Taman Sri Sinar  3.190070  101.652930\n",
       "65            Taman Taynton View  3.087070  101.736810\n",
       "66           Taman Tun Dr Ismail  3.152830  101.622710\n",
       "67                 Taman U-Thant  3.157700  101.724520\n",
       "68                   Taman Wahyu  3.222400  101.671730\n",
       "69                    Titiwangsa  3.180670  101.703220\n",
       "70                   Wangsa Maju  3.203910  101.737190"
      ]
     },
     "execution_count": 13,
     "metadata": {},
     "output_type": "execute_result"
    }
   ],
   "source": [
    "# check the neighborhoods and the coordinates\n",
    "print(kl_df.shape)\n",
    "kl_df"
   ]
  },
  {
   "cell_type": "code",
   "execution_count": 14,
   "metadata": {},
   "outputs": [],
   "source": [
    "# save the DataFrame as CSV file\n",
    "kl_df.to_csv(\"kl_df.csv\", index=False)"
   ]
  },
  {
   "cell_type": "code",
   "execution_count": 15,
   "metadata": {},
   "outputs": [
    {
     "name": "stdout",
     "output_type": "stream",
     "text": [
      "The geograpical coordinate of Kuala Lumpur, Malaysiae 3.1516636, 101.6943028.\n"
     ]
    }
   ],
   "source": [
    "\n",
    "# get the coordinates of Kuala Lumpur\n",
    "address = 'Kuala Lumpur, Malaysia'\n",
    "\n",
    "geolocator = Nominatim(user_agent=\"my-application\")\n",
    "location = geolocator.geocode(address)\n",
    "latitude = location.latitude\n",
    "longitude = location.longitude\n",
    "print('The geograpical coordinate of Kuala Lumpur, Malaysiae {}, {}.'.format(latitude, longitude))"
   ]
  },
  {
   "cell_type": "code",
   "execution_count": 16,
   "metadata": {},
   "outputs": [
    {
     "data": {
      "text/html": [
       "<div style=\"width:100%;\"><div style=\"position:relative;width:100%;height:0;padding-bottom:60%;\"><iframe src=\"data:text/html;charset=utf-8;base64,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\" style=\"position:absolute;width:100%;height:100%;left:0;top:0;border:none !important;\" allowfullscreen webkitallowfullscreen mozallowfullscreen></iframe></div></div>"
      ],
      "text/plain": [
       "<folium.folium.Map at 0x7f9dfa43e128>"
      ]
     },
     "execution_count": 16,
     "metadata": {},
     "output_type": "execute_result"
    }
   ],
   "source": [
    "# create map of Toronto using latitude and longitude values\n",
    "map_kl = folium.Map(location=[latitude, longitude], zoom_start=11)\n",
    "\n",
    "# add markers to map\n",
    "for lat, lng, neighborhood in zip(kl_df['Latitude'], kl_df['Longitude'], kl_df['Neighborhood']):\n",
    "    label = '{}'.format(neighborhood)\n",
    "    label = folium.Popup(label, parse_html=True)\n",
    "    folium.CircleMarker(\n",
    "        [lat, lng],\n",
    "        radius=5,\n",
    "        popup=label,\n",
    "        color='blue',\n",
    "        fill=True,\n",
    "        fill_color='#3186cc',\n",
    "        fill_opacity=0.7).add_to(map_kl)  \n",
    "    \n",
    "map_kl"
   ]
  },
  {
   "cell_type": "code",
   "execution_count": 17,
   "metadata": {},
   "outputs": [],
   "source": [
    "# save the map as HTML file\n",
    "map_kl.save('map_kl.html')"
   ]
  },
  {
   "cell_type": "code",
   "execution_count": 18,
   "metadata": {},
   "outputs": [
    {
     "name": "stdout",
     "output_type": "stream",
     "text": [
      "Your credentails:\n",
      "CLIENT_ID: your Foursquare ID\n",
      "CLIENT_SECRET:your Foursquare Secret\n"
     ]
    }
   ],
   "source": [
    "# define Foursquare Credentials and Version\n",
    "CLIENT_ID = 'your Foursquare ID' # your Foursquare ID\n",
    "CLIENT_SECRET = 'your Foursquare Secret' # your Foursquare Secret\n",
    "VERSION = '20180605' # Foursquare API version\n",
    "\n",
    "print('Your credentails:')\n",
    "print('CLIENT_ID: ' + CLIENT_ID)\n",
    "print('CLIENT_SECRET:' + CLIENT_SECRET)"
   ]
  },
  {
   "cell_type": "code",
   "execution_count": 19,
   "metadata": {},
   "outputs": [
    {
     "ename": "KeyError",
     "evalue": "'groups'",
     "output_type": "error",
     "traceback": [
      "\u001b[0;31m---------------------------------------------------------------------------\u001b[0m",
      "\u001b[0;31mKeyError\u001b[0m                                  Traceback (most recent call last)",
      "\u001b[0;32m<ipython-input-19-7fbba34d8429>\u001b[0m in \u001b[0;36m<module>\u001b[0;34m\u001b[0m\n\u001b[1;32m     17\u001b[0m \u001b[0;34m\u001b[0m\u001b[0m\n\u001b[1;32m     18\u001b[0m     \u001b[0;31m# make the GET request\u001b[0m\u001b[0;34m\u001b[0m\u001b[0;34m\u001b[0m\u001b[0;34m\u001b[0m\u001b[0m\n\u001b[0;32m---> 19\u001b[0;31m     \u001b[0mresults\u001b[0m \u001b[0;34m=\u001b[0m \u001b[0mrequests\u001b[0m\u001b[0;34m.\u001b[0m\u001b[0mget\u001b[0m\u001b[0;34m(\u001b[0m\u001b[0murl\u001b[0m\u001b[0;34m)\u001b[0m\u001b[0;34m.\u001b[0m\u001b[0mjson\u001b[0m\u001b[0;34m(\u001b[0m\u001b[0;34m)\u001b[0m\u001b[0;34m[\u001b[0m\u001b[0;34m\"response\"\u001b[0m\u001b[0;34m]\u001b[0m\u001b[0;34m[\u001b[0m\u001b[0;34m'groups'\u001b[0m\u001b[0;34m]\u001b[0m\u001b[0;34m[\u001b[0m\u001b[0;36m0\u001b[0m\u001b[0;34m]\u001b[0m\u001b[0;34m[\u001b[0m\u001b[0;34m'items'\u001b[0m\u001b[0;34m]\u001b[0m\u001b[0;34m\u001b[0m\u001b[0;34m\u001b[0m\u001b[0m\n\u001b[0m\u001b[1;32m     20\u001b[0m \u001b[0;34m\u001b[0m\u001b[0m\n\u001b[1;32m     21\u001b[0m     \u001b[0;31m# return only relevant information for each nearby venue\u001b[0m\u001b[0;34m\u001b[0m\u001b[0;34m\u001b[0m\u001b[0;34m\u001b[0m\u001b[0m\n",
      "\u001b[0;31mKeyError\u001b[0m: 'groups'"
     ]
    }
   ],
   "source": [
    "radius = 2000\n",
    "LIMIT = 100\n",
    "\n",
    "venues = []\n",
    "\n",
    "for lat, long, neighborhood in zip(kl_df['Latitude'], kl_df['Longitude'], kl_df['Neighborhood']):\n",
    "    \n",
    "    # create the API request URL\n",
    "    url = \"https://api.foursquare.com/v2/venues/explore?client_id={}&client_secret={}&v={}&ll={},{}&radius={}&limit={}\".format(\n",
    "        CLIENT_ID,\n",
    "        CLIENT_SECRET,\n",
    "        VERSION,\n",
    "        lat,\n",
    "        long,\n",
    "        radius, \n",
    "        LIMIT)\n",
    "    \n",
    "    # make the GET request\n",
    "    results = requests.get(url).json()[\"response\"]['groups'][0]['items']\n",
    "    \n",
    "    # return only relevant information for each nearby venue\n",
    "    for venue in results:\n",
    "        venues.append((\n",
    "            neighborhood,\n",
    "            lat, \n",
    "            long, \n",
    "            venue['venue']['name'], \n",
    "            venue['venue']['location']['lat'], \n",
    "            venue['venue']['location']['lng'],  \n",
    "            venue['venue']['categories'][0]['name']))"
   ]
  },
  {
   "cell_type": "code",
   "execution_count": 20,
   "metadata": {},
   "outputs": [
    {
     "ename": "ValueError",
     "evalue": "Length mismatch: Expected axis has 0 elements, new values have 7 elements",
     "output_type": "error",
     "traceback": [
      "\u001b[0;31m---------------------------------------------------------------------------\u001b[0m",
      "\u001b[0;31mValueError\u001b[0m                                Traceback (most recent call last)",
      "\u001b[0;32m<ipython-input-20-cfda47cb09fd>\u001b[0m in \u001b[0;36m<module>\u001b[0;34m\u001b[0m\n\u001b[1;32m      3\u001b[0m \u001b[0;34m\u001b[0m\u001b[0m\n\u001b[1;32m      4\u001b[0m \u001b[0;31m# define the column names\u001b[0m\u001b[0;34m\u001b[0m\u001b[0;34m\u001b[0m\u001b[0;34m\u001b[0m\u001b[0m\n\u001b[0;32m----> 5\u001b[0;31m \u001b[0mvenues_df\u001b[0m\u001b[0;34m.\u001b[0m\u001b[0mcolumns\u001b[0m \u001b[0;34m=\u001b[0m \u001b[0;34m[\u001b[0m\u001b[0;34m'Neighborhood'\u001b[0m\u001b[0;34m,\u001b[0m \u001b[0;34m'Latitude'\u001b[0m\u001b[0;34m,\u001b[0m \u001b[0;34m'Longitude'\u001b[0m\u001b[0;34m,\u001b[0m \u001b[0;34m'VenueName'\u001b[0m\u001b[0;34m,\u001b[0m \u001b[0;34m'VenueLatitude'\u001b[0m\u001b[0;34m,\u001b[0m \u001b[0;34m'VenueLongitude'\u001b[0m\u001b[0;34m,\u001b[0m \u001b[0;34m'VenueCategory'\u001b[0m\u001b[0;34m]\u001b[0m\u001b[0;34m\u001b[0m\u001b[0;34m\u001b[0m\u001b[0m\n\u001b[0m\u001b[1;32m      6\u001b[0m \u001b[0;34m\u001b[0m\u001b[0m\n\u001b[1;32m      7\u001b[0m \u001b[0mprint\u001b[0m\u001b[0;34m(\u001b[0m\u001b[0mvenues_df\u001b[0m\u001b[0;34m.\u001b[0m\u001b[0mshape\u001b[0m\u001b[0;34m)\u001b[0m\u001b[0;34m\u001b[0m\u001b[0;34m\u001b[0m\u001b[0m\n",
      "\u001b[0;32m~/conda/envs/python/lib/python3.6/site-packages/pandas/core/generic.py\u001b[0m in \u001b[0;36m__setattr__\u001b[0;34m(self, name, value)\u001b[0m\n\u001b[1;32m   5190\u001b[0m         \u001b[0;32mtry\u001b[0m\u001b[0;34m:\u001b[0m\u001b[0;34m\u001b[0m\u001b[0;34m\u001b[0m\u001b[0m\n\u001b[1;32m   5191\u001b[0m             \u001b[0mobject\u001b[0m\u001b[0;34m.\u001b[0m\u001b[0m__getattribute__\u001b[0m\u001b[0;34m(\u001b[0m\u001b[0mself\u001b[0m\u001b[0;34m,\u001b[0m \u001b[0mname\u001b[0m\u001b[0;34m)\u001b[0m\u001b[0;34m\u001b[0m\u001b[0;34m\u001b[0m\u001b[0m\n\u001b[0;32m-> 5192\u001b[0;31m             \u001b[0;32mreturn\u001b[0m \u001b[0mobject\u001b[0m\u001b[0;34m.\u001b[0m\u001b[0m__setattr__\u001b[0m\u001b[0;34m(\u001b[0m\u001b[0mself\u001b[0m\u001b[0;34m,\u001b[0m \u001b[0mname\u001b[0m\u001b[0;34m,\u001b[0m \u001b[0mvalue\u001b[0m\u001b[0;34m)\u001b[0m\u001b[0;34m\u001b[0m\u001b[0;34m\u001b[0m\u001b[0m\n\u001b[0m\u001b[1;32m   5193\u001b[0m         \u001b[0;32mexcept\u001b[0m \u001b[0mAttributeError\u001b[0m\u001b[0;34m:\u001b[0m\u001b[0;34m\u001b[0m\u001b[0;34m\u001b[0m\u001b[0m\n\u001b[1;32m   5194\u001b[0m             \u001b[0;32mpass\u001b[0m\u001b[0;34m\u001b[0m\u001b[0;34m\u001b[0m\u001b[0m\n",
      "\u001b[0;32mpandas/_libs/properties.pyx\u001b[0m in \u001b[0;36mpandas._libs.properties.AxisProperty.__set__\u001b[0;34m()\u001b[0m\n",
      "\u001b[0;32m~/conda/envs/python/lib/python3.6/site-packages/pandas/core/generic.py\u001b[0m in \u001b[0;36m_set_axis\u001b[0;34m(self, axis, labels)\u001b[0m\n\u001b[1;32m    688\u001b[0m \u001b[0;34m\u001b[0m\u001b[0m\n\u001b[1;32m    689\u001b[0m     \u001b[0;32mdef\u001b[0m \u001b[0m_set_axis\u001b[0m\u001b[0;34m(\u001b[0m\u001b[0mself\u001b[0m\u001b[0;34m,\u001b[0m \u001b[0maxis\u001b[0m\u001b[0;34m,\u001b[0m \u001b[0mlabels\u001b[0m\u001b[0;34m)\u001b[0m\u001b[0;34m:\u001b[0m\u001b[0;34m\u001b[0m\u001b[0;34m\u001b[0m\u001b[0m\n\u001b[0;32m--> 690\u001b[0;31m         \u001b[0mself\u001b[0m\u001b[0;34m.\u001b[0m\u001b[0m_data\u001b[0m\u001b[0;34m.\u001b[0m\u001b[0mset_axis\u001b[0m\u001b[0;34m(\u001b[0m\u001b[0maxis\u001b[0m\u001b[0;34m,\u001b[0m \u001b[0mlabels\u001b[0m\u001b[0;34m)\u001b[0m\u001b[0;34m\u001b[0m\u001b[0;34m\u001b[0m\u001b[0m\n\u001b[0m\u001b[1;32m    691\u001b[0m         \u001b[0mself\u001b[0m\u001b[0;34m.\u001b[0m\u001b[0m_clear_item_cache\u001b[0m\u001b[0;34m(\u001b[0m\u001b[0;34m)\u001b[0m\u001b[0;34m\u001b[0m\u001b[0;34m\u001b[0m\u001b[0m\n\u001b[1;32m    692\u001b[0m \u001b[0;34m\u001b[0m\u001b[0m\n",
      "\u001b[0;32m~/conda/envs/python/lib/python3.6/site-packages/pandas/core/internals/managers.py\u001b[0m in \u001b[0;36mset_axis\u001b[0;34m(self, axis, new_labels)\u001b[0m\n\u001b[1;32m    181\u001b[0m             raise ValueError(\n\u001b[1;32m    182\u001b[0m                 \u001b[0;34m\"Length mismatch: Expected axis has {old} elements, new \"\u001b[0m\u001b[0;34m\u001b[0m\u001b[0;34m\u001b[0m\u001b[0m\n\u001b[0;32m--> 183\u001b[0;31m                 \u001b[0;34m\"values have {new} elements\"\u001b[0m\u001b[0;34m.\u001b[0m\u001b[0mformat\u001b[0m\u001b[0;34m(\u001b[0m\u001b[0mold\u001b[0m\u001b[0;34m=\u001b[0m\u001b[0mold_len\u001b[0m\u001b[0;34m,\u001b[0m \u001b[0mnew\u001b[0m\u001b[0;34m=\u001b[0m\u001b[0mnew_len\u001b[0m\u001b[0;34m)\u001b[0m\u001b[0;34m\u001b[0m\u001b[0;34m\u001b[0m\u001b[0m\n\u001b[0m\u001b[1;32m    184\u001b[0m             )\n\u001b[1;32m    185\u001b[0m \u001b[0;34m\u001b[0m\u001b[0m\n",
      "\u001b[0;31mValueError\u001b[0m: Length mismatch: Expected axis has 0 elements, new values have 7 elements"
     ]
    }
   ],
   "source": [
    "\n",
    "# convert the venues list into a new DataFrame\n",
    "venues_df = pd.DataFrame(venues)\n",
    "\n",
    "# define the column names\n",
    "venues_df.columns = ['Neighborhood', 'Latitude', 'Longitude', 'VenueName', 'VenueLatitude', 'VenueLongitude', 'VenueCategory']\n",
    "\n",
    "print(venues_df.shape)\n",
    "venues_df.head()"
   ]
  },
  {
   "cell_type": "code",
   "execution_count": 21,
   "metadata": {},
   "outputs": [
    {
     "ename": "KeyError",
     "evalue": "'Neighborhood'",
     "output_type": "error",
     "traceback": [
      "\u001b[0;31m---------------------------------------------------------------------------\u001b[0m",
      "\u001b[0;31mKeyError\u001b[0m                                  Traceback (most recent call last)",
      "\u001b[0;32m<ipython-input-21-f991f0a98e49>\u001b[0m in \u001b[0;36m<module>\u001b[0;34m\u001b[0m\n\u001b[0;32m----> 1\u001b[0;31m \u001b[0mvenues_df\u001b[0m\u001b[0;34m.\u001b[0m\u001b[0mgroupby\u001b[0m\u001b[0;34m(\u001b[0m\u001b[0;34m[\u001b[0m\u001b[0;34m\"Neighborhood\"\u001b[0m\u001b[0;34m]\u001b[0m\u001b[0;34m)\u001b[0m\u001b[0;34m.\u001b[0m\u001b[0mcount\u001b[0m\u001b[0;34m(\u001b[0m\u001b[0;34m)\u001b[0m\u001b[0;34m\u001b[0m\u001b[0;34m\u001b[0m\u001b[0m\n\u001b[0m",
      "\u001b[0;32m~/conda/envs/python/lib/python3.6/site-packages/pandas/core/generic.py\u001b[0m in \u001b[0;36mgroupby\u001b[0;34m(self, by, axis, level, as_index, sort, group_keys, squeeze, observed, **kwargs)\u001b[0m\n\u001b[1;32m   7892\u001b[0m             \u001b[0msqueeze\u001b[0m\u001b[0;34m=\u001b[0m\u001b[0msqueeze\u001b[0m\u001b[0;34m,\u001b[0m\u001b[0;34m\u001b[0m\u001b[0;34m\u001b[0m\u001b[0m\n\u001b[1;32m   7893\u001b[0m             \u001b[0mobserved\u001b[0m\u001b[0;34m=\u001b[0m\u001b[0mobserved\u001b[0m\u001b[0;34m,\u001b[0m\u001b[0;34m\u001b[0m\u001b[0;34m\u001b[0m\u001b[0m\n\u001b[0;32m-> 7894\u001b[0;31m             \u001b[0;34m**\u001b[0m\u001b[0mkwargs\u001b[0m\u001b[0;34m\u001b[0m\u001b[0;34m\u001b[0m\u001b[0m\n\u001b[0m\u001b[1;32m   7895\u001b[0m         )\n\u001b[1;32m   7896\u001b[0m \u001b[0;34m\u001b[0m\u001b[0m\n",
      "\u001b[0;32m~/conda/envs/python/lib/python3.6/site-packages/pandas/core/groupby/groupby.py\u001b[0m in \u001b[0;36mgroupby\u001b[0;34m(obj, by, **kwds)\u001b[0m\n\u001b[1;32m   2520\u001b[0m         \u001b[0;32mraise\u001b[0m \u001b[0mTypeError\u001b[0m\u001b[0;34m(\u001b[0m\u001b[0;34m\"invalid type: {}\"\u001b[0m\u001b[0;34m.\u001b[0m\u001b[0mformat\u001b[0m\u001b[0;34m(\u001b[0m\u001b[0mobj\u001b[0m\u001b[0;34m)\u001b[0m\u001b[0;34m)\u001b[0m\u001b[0;34m\u001b[0m\u001b[0;34m\u001b[0m\u001b[0m\n\u001b[1;32m   2521\u001b[0m \u001b[0;34m\u001b[0m\u001b[0m\n\u001b[0;32m-> 2522\u001b[0;31m     \u001b[0;32mreturn\u001b[0m \u001b[0mklass\u001b[0m\u001b[0;34m(\u001b[0m\u001b[0mobj\u001b[0m\u001b[0;34m,\u001b[0m \u001b[0mby\u001b[0m\u001b[0;34m,\u001b[0m \u001b[0;34m**\u001b[0m\u001b[0mkwds\u001b[0m\u001b[0;34m)\u001b[0m\u001b[0;34m\u001b[0m\u001b[0;34m\u001b[0m\u001b[0m\n\u001b[0m",
      "\u001b[0;32m~/conda/envs/python/lib/python3.6/site-packages/pandas/core/groupby/groupby.py\u001b[0m in \u001b[0;36m__init__\u001b[0;34m(self, obj, keys, axis, level, grouper, exclusions, selection, as_index, sort, group_keys, squeeze, observed, **kwargs)\u001b[0m\n\u001b[1;32m    389\u001b[0m                 \u001b[0msort\u001b[0m\u001b[0;34m=\u001b[0m\u001b[0msort\u001b[0m\u001b[0;34m,\u001b[0m\u001b[0;34m\u001b[0m\u001b[0;34m\u001b[0m\u001b[0m\n\u001b[1;32m    390\u001b[0m                 \u001b[0mobserved\u001b[0m\u001b[0;34m=\u001b[0m\u001b[0mobserved\u001b[0m\u001b[0;34m,\u001b[0m\u001b[0;34m\u001b[0m\u001b[0;34m\u001b[0m\u001b[0m\n\u001b[0;32m--> 391\u001b[0;31m                 \u001b[0mmutated\u001b[0m\u001b[0;34m=\u001b[0m\u001b[0mself\u001b[0m\u001b[0;34m.\u001b[0m\u001b[0mmutated\u001b[0m\u001b[0;34m,\u001b[0m\u001b[0;34m\u001b[0m\u001b[0;34m\u001b[0m\u001b[0m\n\u001b[0m\u001b[1;32m    392\u001b[0m             )\n\u001b[1;32m    393\u001b[0m \u001b[0;34m\u001b[0m\u001b[0m\n",
      "\u001b[0;32m~/conda/envs/python/lib/python3.6/site-packages/pandas/core/groupby/grouper.py\u001b[0m in \u001b[0;36m_get_grouper\u001b[0;34m(obj, key, axis, level, sort, observed, mutated, validate)\u001b[0m\n\u001b[1;32m    619\u001b[0m                 \u001b[0min_axis\u001b[0m\u001b[0;34m,\u001b[0m \u001b[0mname\u001b[0m\u001b[0;34m,\u001b[0m \u001b[0mlevel\u001b[0m\u001b[0;34m,\u001b[0m \u001b[0mgpr\u001b[0m \u001b[0;34m=\u001b[0m \u001b[0;32mFalse\u001b[0m\u001b[0;34m,\u001b[0m \u001b[0;32mNone\u001b[0m\u001b[0;34m,\u001b[0m \u001b[0mgpr\u001b[0m\u001b[0;34m,\u001b[0m \u001b[0;32mNone\u001b[0m\u001b[0;34m\u001b[0m\u001b[0;34m\u001b[0m\u001b[0m\n\u001b[1;32m    620\u001b[0m             \u001b[0;32melse\u001b[0m\u001b[0;34m:\u001b[0m\u001b[0;34m\u001b[0m\u001b[0;34m\u001b[0m\u001b[0m\n\u001b[0;32m--> 621\u001b[0;31m                 \u001b[0;32mraise\u001b[0m \u001b[0mKeyError\u001b[0m\u001b[0;34m(\u001b[0m\u001b[0mgpr\u001b[0m\u001b[0;34m)\u001b[0m\u001b[0;34m\u001b[0m\u001b[0;34m\u001b[0m\u001b[0m\n\u001b[0m\u001b[1;32m    622\u001b[0m         \u001b[0;32melif\u001b[0m \u001b[0misinstance\u001b[0m\u001b[0;34m(\u001b[0m\u001b[0mgpr\u001b[0m\u001b[0;34m,\u001b[0m \u001b[0mGrouper\u001b[0m\u001b[0;34m)\u001b[0m \u001b[0;32mand\u001b[0m \u001b[0mgpr\u001b[0m\u001b[0;34m.\u001b[0m\u001b[0mkey\u001b[0m \u001b[0;32mis\u001b[0m \u001b[0;32mnot\u001b[0m \u001b[0;32mNone\u001b[0m\u001b[0;34m:\u001b[0m\u001b[0;34m\u001b[0m\u001b[0;34m\u001b[0m\u001b[0m\n\u001b[1;32m    623\u001b[0m             \u001b[0;31m# Add key to exclusions\u001b[0m\u001b[0;34m\u001b[0m\u001b[0;34m\u001b[0m\u001b[0;34m\u001b[0m\u001b[0m\n",
      "\u001b[0;31mKeyError\u001b[0m: 'Neighborhood'"
     ]
    }
   ],
   "source": [
    "venues_df.groupby([\"Neighborhood\"]).count()"
   ]
  },
  {
   "cell_type": "code",
   "execution_count": null,
   "metadata": {},
   "outputs": [],
   "source": [
    "print('There are {} uniques categories.'.format(len(venues_df['VenueCategory'].unique())))"
   ]
  },
  {
   "cell_type": "code",
   "execution_count": null,
   "metadata": {},
   "outputs": [],
   "source": [
    "# print out the list of categories\n",
    "venues_df['VenueCategory'].unique()[:50]"
   ]
  },
  {
   "cell_type": "code",
   "execution_count": null,
   "metadata": {},
   "outputs": [],
   "source": [
    "# check if the results contain \"Shopping Mall\"\n",
    "\"Neighborhood\" in venues_df['VenueCategory'].unique()"
   ]
  },
  {
   "cell_type": "code",
   "execution_count": null,
   "metadata": {},
   "outputs": [],
   "source": [
    "# one hot encoding\n",
    "kl_onehot = pd.get_dummies(venues_df[['VenueCategory']], prefix=\"\", prefix_sep=\"\")\n",
    "\n",
    "# add neighborhood column back to dataframe\n",
    "kl_onehot['Neighborhoods'] = venues_df['Neighborhood'] \n",
    "\n",
    "# move neighborhood column to the first column\n",
    "fixed_columns = [kl_onehot.columns[-1]] + list(kl_onehot.columns[:-1])\n",
    "kl_onehot = kl_onehot[fixed_columns]\n",
    "\n",
    "print(kl_onehot.shape)\n",
    "kl_onehot.head()"
   ]
  },
  {
   "cell_type": "code",
   "execution_count": null,
   "metadata": {},
   "outputs": [],
   "source": [
    "kl_grouped = kl_onehot.groupby([\"Neighborhoods\"]).mean().reset_index()\n",
    "\n",
    "print(kl_grouped.shape)\n",
    "kl_grouped"
   ]
  },
  {
   "cell_type": "code",
   "execution_count": null,
   "metadata": {},
   "outputs": [],
   "source": [
    "len(kl_grouped[kl_grouped[\"Shopping Mall\"] > 0])"
   ]
  },
  {
   "cell_type": "code",
   "execution_count": null,
   "metadata": {},
   "outputs": [],
   "source": [
    "kl_mall = kl_grouped[[\"Neighborhoods\",\"Shopping Mall\"]]"
   ]
  },
  {
   "cell_type": "code",
   "execution_count": null,
   "metadata": {},
   "outputs": [],
   "source": [
    "kl_mall.head()"
   ]
  },
  {
   "cell_type": "code",
   "execution_count": null,
   "metadata": {},
   "outputs": [],
   "source": [
    "# set number of clusters\n",
    "kclusters = 3\n",
    "\n",
    "kl_clustering = kl_mall.drop([\"Neighborhoods\"], 1)\n",
    "\n",
    "# run k-means clustering\n",
    "kmeans = KMeans(n_clusters=kclusters, random_state=0).fit(kl_clustering)\n",
    "\n",
    "# check cluster labels generated for each row in the dataframe\n",
    "kmeans.labels_[0:10]"
   ]
  },
  {
   "cell_type": "code",
   "execution_count": null,
   "metadata": {},
   "outputs": [],
   "source": [
    "# create a new dataframe that includes the cluster as well as the top 10 venues for each neighborhood.\n",
    "kl_merged = kl_mall.copy()\n",
    "\n",
    "# add clustering labels\n",
    "kl_merged[\"Cluster Labels\"] = kmeans.labels_"
   ]
  },
  {
   "cell_type": "code",
   "execution_count": null,
   "metadata": {},
   "outputs": [],
   "source": [
    "kl_merged.rename(columns={\"Neighborhoods\": \"Neighborhood\"}, inplace=True)\n",
    "kl_merged.head()"
   ]
  },
  {
   "cell_type": "code",
   "execution_count": null,
   "metadata": {},
   "outputs": [],
   "source": [
    "# merge toronto_grouped with toronto_data to add latitude/longitude for each neighborhood\n",
    "kl_merged = kl_merged.join(kl_df.set_index(\"Neighborhood\"), on=\"Neighborhood\")\n",
    "\n",
    "print(kl_merged.shape)\n",
    "kl_merged.head() # check the last columns!"
   ]
  },
  {
   "cell_type": "code",
   "execution_count": null,
   "metadata": {},
   "outputs": [],
   "source": [
    "# sort the results by Cluster Labels\n",
    "print(kl_merged.shape)\n",
    "kl_merged.sort_values([\"Cluster Labels\"], inplace=True)\n",
    "kl_merged"
   ]
  },
  {
   "cell_type": "code",
   "execution_count": null,
   "metadata": {},
   "outputs": [],
   "source": [
    "# create map\n",
    "map_clusters = folium.Map(location=[latitude, longitude], zoom_start=11)\n",
    "\n",
    "# set color scheme for the clusters\n",
    "x = np.arange(kclusters)\n",
    "ys = [i+x+(i*x)**2 for i in range(kclusters)]\n",
    "colors_array = cm.rainbow(np.linspace(0, 1, len(ys)))\n",
    "rainbow = [colors.rgb2hex(i) for i in colors_array]\n",
    "\n",
    "# add markers to the map\n",
    "markers_colors = []\n",
    "for lat, lon, poi, cluster in zip(kl_merged['Latitude'], kl_merged['Longitude'], kl_merged['Neighborhood'], kl_merged['Cluster Labels']):\n",
    "    label = folium.Popup(str(poi) + ' - Cluster ' + str(cluster), parse_html=True)\n",
    "    folium.CircleMarker(\n",
    "        [lat, lon],\n",
    "        radius=5,\n",
    "        popup=label,\n",
    "        color=rainbow[cluster-1],\n",
    "        fill=True,\n",
    "        fill_color=rainbow[cluster-1],\n",
    "        fill_opacity=0.7).add_to(map_clusters)\n",
    "       \n",
    "map_clusters"
   ]
  },
  {
   "cell_type": "code",
   "execution_count": null,
   "metadata": {},
   "outputs": [],
   "source": [
    "# save the map as HTML file\n",
    "map_clusters.save('map_clusters.html')"
   ]
  },
  {
   "cell_type": "code",
   "execution_count": null,
   "metadata": {},
   "outputs": [],
   "source": [
    "\n",
    "kl_merged.loc[kl_merged['Cluster Labels'] == 0]"
   ]
  },
  {
   "cell_type": "code",
   "execution_count": null,
   "metadata": {},
   "outputs": [],
   "source": [
    "kl_merged.loc[kl_merged['Cluster Labels'] == 1]"
   ]
  },
  {
   "cell_type": "code",
   "execution_count": null,
   "metadata": {},
   "outputs": [],
   "source": [
    "kl_merged.loc[kl_merged['Cluster Labels'] == 2]"
   ]
  },
  {
   "cell_type": "markdown",
   "metadata": {},
   "source": [
    "# Observations:\n",
    "Most of the shopping malls are concentrated in the central area of Kuala Lumpur city, with the highest number in cluster 2 and moderate number in cluster 0. On the other hand, cluster 1 has very low number to totally no shopping mall in the neighborhoods. This represents a great opportunity and high potential areas to open new shopping malls as there is very little to no competition from existing malls. Meanwhile, shopping malls in cluster 2 are likely suffering from intense competition due to oversupply and high concentration of shopping malls. From another perspective, this also shows that the oversupply of shopping malls mostly happened in the central area of the city, with the suburb area still have very few shopping malls. Therefore, this project recommends property developers to capitalize on these findings to open new shopping malls in neighborhoods in cluster 1 with little to no competition. Property developers with unique selling propositions to stand out from the competition can also open new shopping malls in neighborhoods in cluster 0 with moderate competition. Lastly, property developers are advised to avoid neighborhoods in cluster 2 which already have high concentration of shopping malls and suffering from intense competition."
   ]
  }
 ],
 "metadata": {
  "kernelspec": {
   "display_name": "Python",
   "language": "python",
   "name": "conda-env-python-py"
  },
  "language_info": {
   "codemirror_mode": {
    "name": "ipython",
    "version": 3
   },
   "file_extension": ".py",
   "mimetype": "text/x-python",
   "name": "python",
   "nbconvert_exporter": "python",
   "pygments_lexer": "ipython3",
   "version": "3.6.7"
  }
 },
 "nbformat": 4,
 "nbformat_minor": 4
}
